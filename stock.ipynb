{
 "cells": [
  {
   "cell_type": "code",
   "execution_count": 1,
   "metadata": {},
   "outputs": [
    {
     "name": "stderr",
     "output_type": "stream",
     "text": [
      "Cloning into 'Data-Analysis'...\n",
      "Updating files:  10% (98/910)\n",
      "Updating files:  11% (101/910)\n",
      "Updating files:  12% (110/910)\n",
      "Updating files:  13% (119/910)\n",
      "Updating files:  14% (128/910)\n",
      "Updating files:  15% (137/910)\n",
      "Updating files:  16% (146/910)\n",
      "Updating files:  17% (155/910)\n",
      "Updating files:  18% (164/910)\n",
      "Updating files:  19% (173/910)\n",
      "Updating files:  20% (182/910)\n",
      "Updating files:  21% (192/910)\n",
      "Updating files:  22% (201/910)\n",
      "Updating files:  23% (210/910)\n",
      "Updating files:  24% (219/910)\n",
      "Updating files:  25% (228/910)\n",
      "Updating files:  26% (237/910)\n",
      "Updating files:  27% (246/910)\n",
      "Updating files:  28% (255/910)\n",
      "Updating files:  29% (264/910)\n",
      "Updating files:  30% (273/910)\n",
      "Updating files:  31% (283/910)\n",
      "Updating files:  32% (292/910)\n",
      "Updating files:  33% (301/910)\n",
      "Updating files:  33% (307/910)\n",
      "Updating files:  34% (310/910)\n",
      "Updating files:  35% (319/910)\n",
      "Updating files:  36% (328/910)\n",
      "Updating files:  37% (337/910)\n",
      "Updating files:  38% (346/910)\n",
      "Updating files:  39% (355/910)\n",
      "Updating files:  40% (364/910)\n",
      "Updating files:  41% (374/910)\n",
      "Updating files:  42% (383/910)\n",
      "Updating files:  43% (392/910)\n",
      "Updating files:  44% (401/910)\n",
      "Updating files:  45% (410/910)\n",
      "Updating files:  46% (419/910)\n",
      "Updating files:  47% (428/910)\n",
      "Updating files:  48% (437/910)\n",
      "Updating files:  49% (446/910)\n",
      "Updating files:  50% (455/910)\n",
      "Updating files:  51% (465/910)\n",
      "Updating files:  52% (474/910)\n",
      "Updating files:  53% (483/910)\n",
      "Updating files:  54% (492/910)\n",
      "Updating files:  55% (501/910)\n",
      "Updating files:  56% (510/910)\n",
      "Updating files:  57% (519/910)\n",
      "Updating files:  58% (528/910)\n",
      "Updating files:  58% (530/910)\n",
      "Updating files:  59% (537/910)\n",
      "Updating files:  60% (546/910)\n",
      "Updating files:  61% (556/910)\n",
      "Updating files:  62% (565/910)\n",
      "Updating files:  63% (574/910)\n",
      "Updating files:  64% (583/910)\n",
      "Updating files:  65% (592/910)\n",
      "Updating files:  66% (601/910)\n",
      "Updating files:  67% (610/910)\n",
      "Updating files:  68% (619/910)\n",
      "Updating files:  69% (628/910)\n",
      "Updating files:  70% (637/910)\n",
      "Updating files:  71% (647/910)\n",
      "Updating files:  72% (656/910)\n",
      "Updating files:  73% (665/910)\n",
      "Updating files:  74% (674/910)\n",
      "Updating files:  75% (683/910)\n",
      "Updating files:  76% (692/910)\n",
      "Updating files:  77% (701/910)\n",
      "Updating files:  78% (710/910)\n",
      "Updating files:  79% (719/910)\n",
      "Updating files:  80% (728/910)\n",
      "Updating files:  81% (738/910)\n",
      "Updating files:  82% (747/910)\n",
      "Updating files:  83% (756/910)\n",
      "Updating files:  84% (765/910)\n",
      "Updating files:  85% (774/910)\n",
      "Updating files:  86% (783/910)\n",
      "Updating files:  87% (792/910)\n",
      "Updating files:  87% (793/910)\n",
      "Updating files:  88% (801/910)\n",
      "Updating files:  89% (810/910)\n",
      "Updating files:  90% (819/910)\n",
      "Updating files:  91% (829/910)\n",
      "Updating files:  92% (838/910)\n",
      "Updating files:  93% (847/910)\n",
      "Updating files:  94% (856/910)\n",
      "Updating files:  95% (865/910)\n",
      "Updating files:  96% (874/910)\n",
      "Updating files:  97% (883/910)\n",
      "Updating files:  98% (892/910)\n",
      "Updating files:  99% (901/910)\n",
      "Updating files: 100% (910/910)\n",
      "Updating files: 100% (910/910), done.\n",
      "Downloading additive_models/data/gm_sales.csv (844 B)\n",
      "Error downloading object: additive_models/data/gm_sales.csv (7a9a3d0): Smudge error: Error downloading additive_models/data/gm_sales.csv (7a9a3d0678bcff73cf1786391738bf13cf10d869500f0173158c522f64f4f4b0): batch response: This repository is over its data quota. Account responsible for LFS bandwidth should purchase more data packs to restore access.\n",
      "\n",
      "Errors logged to C:\\Users\\jbogg\\Documents\\Repos\\testing123\\Data-Analysis\\.git\\lfs\\logs\\20200814T081829.0989143.log\n",
      "Use `git lfs logs last` to view the log.\n",
      "error: external filter 'git-lfs filter-process' failed\n",
      "fatal: additive_models/data/gm_sales.csv: smudge filter lfs failed\n",
      "warning: Clone succeeded, but checkout failed.\n",
      "You can inspect what was checked out with 'git status'\n",
      "and retry with 'git restore --source=HEAD :/'\n",
      "\n"
     ]
    }
   ],
   "source": [
    "!git clone https://github.com/WillKoehrsen/Data-Analysis.git"
   ]
  },
  {
   "cell_type": "code",
   "execution_count": 2,
   "metadata": {},
   "outputs": [
    {
     "name": "stdout",
     "output_type": "stream",
     "text": [
      "Requirement already satisfied: quandl in c:\\users\\jbogg\\anaconda3\\lib\\site-packages (3.5.0)\n",
      "Requirement already satisfied: inflection>=0.3.1 in c:\\users\\jbogg\\anaconda3\\lib\\site-packages (from quandl) (0.4.0)\n",
      "Requirement already satisfied: python-dateutil in c:\\users\\jbogg\\anaconda3\\lib\\site-packages (from quandl) (2.8.1)\n",
      "Requirement already satisfied: pandas>=0.14 in c:\\users\\jbogg\\anaconda3\\lib\\site-packages (from quandl) (1.0.3)\n",
      "Requirement already satisfied: numpy>=1.8 in c:\\users\\jbogg\\anaconda3\\lib\\site-packages (from quandl) (1.18.4)\n",
      "Requirement already satisfied: six in c:\\users\\jbogg\\anaconda3\\lib\\site-packages (from quandl) (1.14.0)\n",
      "Requirement already satisfied: more-itertools in c:\\users\\jbogg\\anaconda3\\lib\\site-packages (from quandl) (8.2.0)\n",
      "Requirement already satisfied: requests>=2.7.0 in c:\\users\\jbogg\\anaconda3\\lib\\site-packages (from quandl) (2.23.0)\n",
      "Requirement already satisfied: pytz>=2017.2 in c:\\users\\jbogg\\anaconda3\\lib\\site-packages (from pandas>=0.14->quandl) (2020.1)\n",
      "Requirement already satisfied: urllib3!=1.25.0,!=1.25.1,<1.26,>=1.21.1 in c:\\users\\jbogg\\anaconda3\\lib\\site-packages (from requests>=2.7.0->quandl) (1.25.8)\n",
      "Requirement already satisfied: certifi>=2017.4.17 in c:\\users\\jbogg\\anaconda3\\lib\\site-packages (from requests>=2.7.0->quandl) (2020.4.5.1)\n",
      "Requirement already satisfied: chardet<4,>=3.0.2 in c:\\users\\jbogg\\anaconda3\\lib\\site-packages (from requests>=2.7.0->quandl) (3.0.4)\n",
      "Requirement already satisfied: idna<3,>=2.5 in c:\\users\\jbogg\\anaconda3\\lib\\site-packages (from requests>=2.7.0->quandl) (2.9)\n"
     ]
    },
    {
     "name": "stderr",
     "output_type": "stream",
     "text": [
      "WARNING: You are using pip version 20.2; however, version 20.2.2 is available.\n",
      "You should consider upgrading via the 'c:\\users\\jbogg\\anaconda3\\python.exe -m pip install --upgrade pip' command.\n"
     ]
    },
    {
     "name": "stdout",
     "output_type": "stream",
     "text": [
      "Collecting pytrends\n",
      "  Downloading pytrends-4.7.3-py3-none-any.whl (14 kB)\n",
      "Requirement already satisfied: pandas>=0.25 in c:\\users\\jbogg\\anaconda3\\lib\\site-packages (from pytrends) (1.0.3)\n",
      "Requirement already satisfied: lxml in c:\\users\\jbogg\\anaconda3\\lib\\site-packages (from pytrends) (4.5.0)\n",
      "Requirement already satisfied: requests in c:\\users\\jbogg\\anaconda3\\lib\\site-packages (from pytrends) (2.23.0)\n",
      "Requirement already satisfied: python-dateutil>=2.6.1 in c:\\users\\jbogg\\anaconda3\\lib\\site-packages (from pandas>=0.25->pytrends) (2.8.1)\n",
      "Requirement already satisfied: numpy>=1.13.3 in c:\\users\\jbogg\\anaconda3\\lib\\site-packages (from pandas>=0.25->pytrends) (1.18.4)\n",
      "Requirement already satisfied: pytz>=2017.2 in c:\\users\\jbogg\\anaconda3\\lib\\site-packages (from pandas>=0.25->pytrends) (2020.1)\n",
      "Requirement already satisfied: chardet<4,>=3.0.2 in c:\\users\\jbogg\\anaconda3\\lib\\site-packages (from requests->pytrends) (3.0.4)\n",
      "Requirement already satisfied: urllib3!=1.25.0,!=1.25.1,<1.26,>=1.21.1 in c:\\users\\jbogg\\anaconda3\\lib\\site-packages (from requests->pytrends) (1.25.8)\n",
      "Requirement already satisfied: certifi>=2017.4.17 in c:\\users\\jbogg\\anaconda3\\lib\\site-packages (from requests->pytrends) (2020.4.5.1)\n",
      "Requirement already satisfied: idna<3,>=2.5 in c:\\users\\jbogg\\anaconda3\\lib\\site-packages (from requests->pytrends) (2.9)\n",
      "Requirement already satisfied: six>=1.5 in c:\\users\\jbogg\\anaconda3\\lib\\site-packages (from python-dateutil>=2.6.1->pandas>=0.25->pytrends) (1.14.0)\n",
      "Installing collected packages: pytrends\n",
      "Successfully installed pytrends-4.7.3\n"
     ]
    },
    {
     "name": "stderr",
     "output_type": "stream",
     "text": [
      "WARNING: You are using pip version 20.2; however, version 20.2.2 is available.\n",
      "You should consider upgrading via the 'c:\\users\\jbogg\\anaconda3\\python.exe -m pip install --upgrade pip' command.\n"
     ]
    },
    {
     "ename": "ModuleNotFoundError",
     "evalue": "No module named 'stocker'",
     "output_type": "error",
     "traceback": [
      "\u001b[1;31m---------------------------------------------------------------------------\u001b[0m",
      "\u001b[1;31mModuleNotFoundError\u001b[0m                       Traceback (most recent call last)",
      "\u001b[1;32m<ipython-input-2-efeb5557f38a>\u001b[0m in \u001b[0;36m<module>\u001b[1;34m\u001b[0m\n\u001b[0;32m      1\u001b[0m \u001b[0mget_ipython\u001b[0m\u001b[1;33m(\u001b[0m\u001b[1;33m)\u001b[0m\u001b[1;33m.\u001b[0m\u001b[0msystem\u001b[0m\u001b[1;33m(\u001b[0m\u001b[1;34m'pip install quandl'\u001b[0m\u001b[1;33m)\u001b[0m\u001b[1;33m\u001b[0m\u001b[1;33m\u001b[0m\u001b[0m\n\u001b[0;32m      2\u001b[0m \u001b[0mget_ipython\u001b[0m\u001b[1;33m(\u001b[0m\u001b[1;33m)\u001b[0m\u001b[1;33m.\u001b[0m\u001b[0msystem\u001b[0m\u001b[1;33m(\u001b[0m\u001b[1;34m'pip install pytrends'\u001b[0m\u001b[1;33m)\u001b[0m\u001b[1;33m\u001b[0m\u001b[1;33m\u001b[0m\u001b[0m\n\u001b[1;32m----> 3\u001b[1;33m \u001b[1;32mimport\u001b[0m \u001b[0mstocker\u001b[0m\u001b[1;33m\u001b[0m\u001b[1;33m\u001b[0m\u001b[0m\n\u001b[0m\u001b[0;32m      4\u001b[0m \u001b[1;32mfrom\u001b[0m \u001b[0mstocker\u001b[0m \u001b[1;32mimport\u001b[0m \u001b[0mStocker\u001b[0m\u001b[1;33m\u001b[0m\u001b[1;33m\u001b[0m\u001b[0m\n",
      "\u001b[1;31mModuleNotFoundError\u001b[0m: No module named 'stocker'"
     ]
    }
   ],
   "source": [
    "!pip install quandl\n",
    "!pip install pytrends\n",
    "import stocker\n",
    "from stocker import Stocker"
   ]
  },
  {
   "cell_type": "code",
   "execution_count": 3,
   "metadata": {},
   "outputs": [
    {
     "ename": "NameError",
     "evalue": "name 'Stocker' is not defined",
     "output_type": "error",
     "traceback": [
      "\u001b[1;31m---------------------------------------------------------------------------\u001b[0m",
      "\u001b[1;31mNameError\u001b[0m                                 Traceback (most recent call last)",
      "\u001b[1;32m<ipython-input-3-a640326d3c7b>\u001b[0m in \u001b[0;36m<module>\u001b[1;34m\u001b[0m\n\u001b[1;32m----> 1\u001b[1;33m \u001b[0mappl\u001b[0m \u001b[1;33m=\u001b[0m \u001b[0mStocker\u001b[0m\u001b[1;33m(\u001b[0m\u001b[1;34m'Appl'\u001b[0m\u001b[1;33m)\u001b[0m\u001b[1;33m\u001b[0m\u001b[1;33m\u001b[0m\u001b[0m\n\u001b[0m",
      "\u001b[1;31mNameError\u001b[0m: name 'Stocker' is not defined"
     ]
    }
   ],
   "source": [
    "appl = Stocker('Appl')"
   ]
  },
  {
   "cell_type": "code",
   "execution_count": null,
   "metadata": {},
   "outputs": [],
   "source": []
  }
 ],
 "metadata": {
  "kernelspec": {
   "display_name": "Python 3",
   "language": "python",
   "name": "python3"
  },
  "language_info": {
   "codemirror_mode": {
    "name": "ipython",
    "version": 3
   },
   "file_extension": ".py",
   "mimetype": "text/x-python",
   "name": "python",
   "nbconvert_exporter": "python",
   "pygments_lexer": "ipython3",
   "version": "3.7.7"
  }
 },
 "nbformat": 4,
 "nbformat_minor": 4
}
